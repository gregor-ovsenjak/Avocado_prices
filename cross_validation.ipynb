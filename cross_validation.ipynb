{
 "cells": [
  {
   "cell_type": "code",
   "execution_count": 184,
   "metadata": {},
   "outputs": [],
   "source": [
    "import importlib\n",
    "import data_transform\n",
    "import Cross_validation\n",
    "importlib.reload(data_transform)\n",
    "importlib.reload(Cross_validation)\n",
    "import pandas as pd\n",
    "import numpy as np\n",
    "import matplotlib.pyplot as plt\n",
    "from Visualization.Feature_importance import FeatImp\n",
    "from data_transform import apply_transformations\n",
    "from Cross_validation import cross_validation,BlockingTimeSeriesSplit\n",
    "from sklearn.preprocessing import StandardScaler\n",
    "from sklearn.tree import DecisionTreeRegressor\n",
    "import seaborn as sns\n",
    "\n",
    "#Models for predicting\n",
    "from sklearn.ensemble import RandomForestRegressor,ExtraTreesRegressor,AdaBoostRegressor,VotingRegressor\n",
    "from sklearn.linear_model import LinearRegression,SGDRegressor\n",
    "from sklearn.tree import DecisionTreeRegressor\n",
    "from sklearn.svm import SVR\n",
    "\n",
    "#Grid Search\n",
    "from sklearn.model_selection import GridSearchCV\n",
    "\n",
    "# preparing and cleaning data\n",
    "data = pd.read_csv('data/avocado.csv')\n",
    "data = data.sort_values(by=['Date'])\n",
    "target = data['AveragePrice']\n",
    "\n",
    "data = data.drop(['Unnamed: 0','AveragePrice'],axis = 1)\n",
    "\n",
    "# applied all transformations\n",
    "data_2 = apply_transformations(data)\n",
    "\n",
    "# seperating into train, test\n",
    "train_size = int(0.2*len(data_2))\n",
    "\n",
    "#train data\n",
    "X_train = data_2[:][0:train_size]\n",
    "y_train = target[0:train_size]\n",
    "\n",
    "# test data\n",
    "X_test = data_2[:][train_size:]\n",
    "y_test = target[train_size:]\n"
   ]
  },
  {
   "cell_type": "code",
   "execution_count": 185,
   "metadata": {},
   "outputs": [],
   "source": [
    "#scaling data\n",
    "SC = StandardScaler()\n",
    "X_train = SC.fit_transform(X_train) # important to fit data to X_train and applying same statistical properties to X_test!!!\n",
    "X_test = SC.transform(X_test)\n",
    "\n",
    "y_train = pd.Series(SC.fit_transform(np.array(y_train).reshape(-1,1)).ravel()) # same goes for target values!!!\n",
    "y_test = pd.Series(SC.transform(np.array(y_test).reshape(-1,1)).ravel())\n"
   ]
  },
  {
   "cell_type": "code",
   "execution_count": 153,
   "metadata": {
    "scrolled": true
   },
   "outputs": [
    {
     "data": {
      "text/html": [
       "<div>\n",
       "<style scoped>\n",
       "    .dataframe tbody tr th:only-of-type {\n",
       "        vertical-align: middle;\n",
       "    }\n",
       "\n",
       "    .dataframe tbody tr th {\n",
       "        vertical-align: top;\n",
       "    }\n",
       "\n",
       "    .dataframe thead th {\n",
       "        text-align: right;\n",
       "    }\n",
       "</style>\n",
       "<table border=\"1\" class=\"dataframe\">\n",
       "  <thead>\n",
       "    <tr style=\"text-align: right;\">\n",
       "      <th></th>\n",
       "      <th>SVR</th>\n",
       "      <th>Random Forest Regressor</th>\n",
       "      <th>Extra Trees Regressor</th>\n",
       "      <th>AdaBoost</th>\n",
       "      <th>LinearRegresion</th>\n",
       "      <th>SGD</th>\n",
       "    </tr>\n",
       "  </thead>\n",
       "  <tbody>\n",
       "    <tr>\n",
       "      <th>means</th>\n",
       "      <td>0.749667</td>\n",
       "      <td>0.786094</td>\n",
       "      <td>0.803752</td>\n",
       "      <td>0.798321</td>\n",
       "      <td>-3.907501e+25</td>\n",
       "      <td>0.69534</td>\n",
       "    </tr>\n",
       "    <tr>\n",
       "      <th>std</th>\n",
       "      <td>0.114276</td>\n",
       "      <td>0.099278</td>\n",
       "      <td>0.087795</td>\n",
       "      <td>0.084768</td>\n",
       "      <td>4.723836e+25</td>\n",
       "      <td>0.12486</td>\n",
       "    </tr>\n",
       "  </tbody>\n",
       "</table>\n",
       "</div>"
      ],
      "text/plain": [
       "            SVR  Random Forest Regressor  Extra Trees Regressor  AdaBoost  \\\n",
       "means  0.749667                 0.786094               0.803752  0.798321   \n",
       "std    0.114276                 0.099278               0.087795  0.084768   \n",
       "\n",
       "       LinearRegresion      SGD  \n",
       "means    -3.907501e+25  0.69534  \n",
       "std       4.723836e+25  0.12486  "
      ]
     },
     "execution_count": 153,
     "metadata": {},
     "output_type": "execute_result"
    }
   ],
   "source": [
    "cross_validation(X_train,y_train)"
   ]
  },
  {
   "cell_type": "code",
   "execution_count": null,
   "metadata": {},
   "outputs": [],
   "source": [
    "'''I used R2 scoring function for my performance measure. Generally, higher R2 values mean better model fitting. We see that the best \n",
    "models are RFR,ETR,AdaBoost'''"
   ]
  },
  {
   "cell_type": "code",
   "execution_count": 50,
   "metadata": {},
   "outputs": [
    {
     "name": "stdout",
     "output_type": "stream",
     "text": [
      "Fitting 5 folds for each of 40 candidates, totalling 200 fits\n"
     ]
    },
    {
     "name": "stderr",
     "output_type": "stream",
     "text": [
      "[Parallel(n_jobs=-1)]: Using backend LokyBackend with 4 concurrent workers.\n",
      "[Parallel(n_jobs=-1)]: Done  42 tasks      | elapsed:   21.4s\n",
      "[Parallel(n_jobs=-1)]: Done 192 tasks      | elapsed: 18.7min\n",
      "[Parallel(n_jobs=-1)]: Done 200 out of 200 | elapsed: 22.4min finished\n"
     ]
    }
   ],
   "source": [
    "# Random Forest Regressor hyperparameter Tuning\n",
    "\n",
    "RFR = RandomForestRegressor()\n",
    "btss = BlockingTimeSeriesSplit(n_splits=5)\n",
    "\n",
    "rfr_params = {\"n_estimators\":[10,50,100,200],\n",
    "              \"criterion\":['mse','mae'],\n",
    "              \"max_depth\":[4,6,8,10,20],\n",
    "             }\n",
    "gsRFC = GridSearchCV(RFR,param_grid = rfr_params, cv=btss, scoring=\"r2\", n_jobs= -1, verbose = 1)\n",
    "\n",
    "gsRFC.fit(X_train,y_train)\n",
    "\n",
    "RFC_best = gsRFC.best_estimator_\n"
   ]
  },
  {
   "cell_type": "code",
   "execution_count": 59,
   "metadata": {},
   "outputs": [
    {
     "data": {
      "text/plain": [
       "{'criterion': 'mse', 'max_depth': 20, 'n_estimators': 100}"
      ]
     },
     "execution_count": 59,
     "metadata": {},
     "output_type": "execute_result"
    }
   ],
   "source": [
    "gsRFC.best_params_"
   ]
  },
  {
   "cell_type": "code",
   "execution_count": 60,
   "metadata": {},
   "outputs": [
    {
     "name": "stdout",
     "output_type": "stream",
     "text": [
      "Fitting 5 folds for each of 40 candidates, totalling 200 fits\n"
     ]
    },
    {
     "name": "stderr",
     "output_type": "stream",
     "text": [
      "[Parallel(n_jobs=-1)]: Using backend LokyBackend with 4 concurrent workers.\n",
      "[Parallel(n_jobs=-1)]: Done  42 tasks      | elapsed:   26.9s\n",
      "[Parallel(n_jobs=-1)]: Done 192 tasks      | elapsed: 31.7min\n",
      "[Parallel(n_jobs=-1)]: Done 200 out of 200 | elapsed: 37.8min finished\n"
     ]
    }
   ],
   "source": [
    "# Extra Trees Regressor hyperparameter Tuning\n",
    "\n",
    "ETR = ExtraTreesRegressor()\n",
    "btss = BlockingTimeSeriesSplit(n_splits=5)\n",
    "\n",
    "ETR_params = {\"n_estimators\":[10,50,100,200],\n",
    "              \"criterion\":['mse','mae'],\n",
    "              \"max_depth\":[4,6,8,10,20],\n",
    "             }\n",
    "gsETR = GridSearchCV(ETR,param_grid = ETR_params, cv=btss, scoring=\"r2\", n_jobs= -1, verbose = 1)\n",
    "\n",
    "gsETR.fit(X_train,y_train)\n",
    "\n",
    "ETR_best = gsETR.best_estimator_\n"
   ]
  },
  {
   "cell_type": "code",
   "execution_count": 61,
   "metadata": {},
   "outputs": [
    {
     "data": {
      "text/plain": [
       "ExtraTreesRegressor(max_depth=20, n_estimators=200)"
      ]
     },
     "execution_count": 61,
     "metadata": {},
     "output_type": "execute_result"
    }
   ],
   "source": [
    "ETR_best"
   ]
  },
  {
   "cell_type": "code",
   "execution_count": 62,
   "metadata": {},
   "outputs": [
    {
     "data": {
      "text/plain": [
       "{'criterion': 'mse', 'max_depth': 20, 'n_estimators': 200}"
      ]
     },
     "execution_count": 62,
     "metadata": {},
     "output_type": "execute_result"
    }
   ],
   "source": [
    "gsETR.best_params_"
   ]
  },
  {
   "cell_type": "code",
   "execution_count": 64,
   "metadata": {},
   "outputs": [
    {
     "name": "stdout",
     "output_type": "stream",
     "text": [
      "Fitting 5 folds for each of 48 candidates, totalling 240 fits\n"
     ]
    },
    {
     "name": "stderr",
     "output_type": "stream",
     "text": [
      "[Parallel(n_jobs=-1)]: Using backend LokyBackend with 4 concurrent workers.\n",
      "[Parallel(n_jobs=-1)]: Done  42 tasks      | elapsed:  1.3min\n",
      "[Parallel(n_jobs=-1)]: Done 192 tasks      | elapsed:  4.5min\n",
      "[Parallel(n_jobs=-1)]: Done 240 out of 240 | elapsed:  5.3min finished\n"
     ]
    }
   ],
   "source": [
    "AB = AdaBoostRegressor(base_estimator=DecisionTreeRegressor())\n",
    "\n",
    "AB_params = {\"n_estimators\":[10,50,100,200],\n",
    "              \"learning_rate\":[0.1,0.5,1,2],\n",
    "              \"loss\":[\"linear\",\"square\",\"exponential\"],\n",
    "             }\n",
    "gsAB = GridSearchCV(AB,param_grid = AB_params, cv=btss, scoring=\"r2\", n_jobs= -1, verbose = 1)\n",
    "\n",
    "gsAB.fit(X_train,y_train)\n",
    "\n",
    "AB_best = gsAB.best_estimator_"
   ]
  },
  {
   "cell_type": "code",
   "execution_count": 66,
   "metadata": {},
   "outputs": [
    {
     "data": {
      "text/plain": [
       "AdaBoostRegressor(base_estimator=DecisionTreeRegressor(), learning_rate=0.1,\n",
       "                  loss='exponential', n_estimators=100)"
      ]
     },
     "execution_count": 66,
     "metadata": {},
     "output_type": "execute_result"
    }
   ],
   "source": [
    "gsAB.best_params_\n",
    "AB_best"
   ]
  },
  {
   "cell_type": "code",
   "execution_count": 67,
   "metadata": {},
   "outputs": [
    {
     "name": "stdout",
     "output_type": "stream",
     "text": [
      "Fitting 5 folds for each of 192 candidates, totalling 960 fits\n"
     ]
    },
    {
     "name": "stderr",
     "output_type": "stream",
     "text": [
      "[Parallel(n_jobs=-1)]: Using backend LokyBackend with 4 concurrent workers.\n",
      "[Parallel(n_jobs=-1)]: Done  42 tasks      | elapsed:   24.5s\n",
      "[Parallel(n_jobs=-1)]: Done 192 tasks      | elapsed:  1.3min\n",
      "[Parallel(n_jobs=-1)]: Done 442 tasks      | elapsed:  3.5min\n",
      "[Parallel(n_jobs=-1)]: Done 792 tasks      | elapsed:  9.1min\n",
      "[Parallel(n_jobs=-1)]: Done 960 out of 960 | elapsed: 13.6min finished\n"
     ]
    }
   ],
   "source": [
    "svr = SVR()\n",
    "svr_params = {\"kernel\":['linear','poly','rbf','sigmoid'],\n",
    "              \"degree\":[2,3,4,5],\n",
    "              \"gamma\":['scale','auto'],\n",
    "              \"C\":[0.1,0.5,1,2,3,4]}\n",
    "\n",
    "gsSVR = GridSearchCV(svr,param_grid = svr_params, cv=btss, scoring=\"r2\", n_jobs= -1, verbose = 1)\n",
    "\n",
    "gsSVR.fit(X_train,y_train)\n",
    "\n",
    "svr_best = gsSVR.best_estimator_"
   ]
  },
  {
   "cell_type": "code",
   "execution_count": 68,
   "metadata": {},
   "outputs": [
    {
     "data": {
      "text/plain": [
       "{'C': 4, 'degree': 2, 'gamma': 'auto', 'kernel': 'rbf'}"
      ]
     },
     "execution_count": 68,
     "metadata": {},
     "output_type": "execute_result"
    }
   ],
   "source": [
    "gsSVR.best_params_"
   ]
  },
  {
   "cell_type": "code",
   "execution_count": 186,
   "metadata": {},
   "outputs": [],
   "source": [
    "votingR = VotingRegressor(estimators=[('rfc', RFC_best),\n",
    "('ETR', ETR_best),('AB',AB_best),('svr',svr_best)],  n_jobs=-1)\n",
    "\n",
    "votingC = votingR.fit(X_train, y_train)"
   ]
  },
  {
   "cell_type": "code",
   "execution_count": 187,
   "metadata": {},
   "outputs": [
    {
     "name": "stdout",
     "output_type": "stream",
     "text": [
      "0.47519591900164915\n"
     ]
    },
    {
     "data": {
      "text/html": [
       "<div>\n",
       "<style scoped>\n",
       "    .dataframe tbody tr th:only-of-type {\n",
       "        vertical-align: middle;\n",
       "    }\n",
       "\n",
       "    .dataframe tbody tr th {\n",
       "        vertical-align: top;\n",
       "    }\n",
       "\n",
       "    .dataframe thead th {\n",
       "        text-align: right;\n",
       "    }\n",
       "</style>\n",
       "<table border=\"1\" class=\"dataframe\">\n",
       "  <thead>\n",
       "    <tr style=\"text-align: right;\">\n",
       "      <th></th>\n",
       "      <th>0</th>\n",
       "      <th>0</th>\n",
       "    </tr>\n",
       "  </thead>\n",
       "  <tbody>\n",
       "    <tr>\n",
       "      <th>0</th>\n",
       "      <td>-1.580209</td>\n",
       "      <td>-1.581211</td>\n",
       "    </tr>\n",
       "    <tr>\n",
       "      <th>1</th>\n",
       "      <td>-0.590269</td>\n",
       "      <td>-0.570099</td>\n",
       "    </tr>\n",
       "    <tr>\n",
       "      <th>2</th>\n",
       "      <td>-0.539448</td>\n",
       "      <td>-0.679409</td>\n",
       "    </tr>\n",
       "    <tr>\n",
       "      <th>3</th>\n",
       "      <td>1.084176</td>\n",
       "      <td>0.659630</td>\n",
       "    </tr>\n",
       "    <tr>\n",
       "      <th>4</th>\n",
       "      <td>1.360003</td>\n",
       "      <td>1.670742</td>\n",
       "    </tr>\n",
       "    <tr>\n",
       "      <th>...</th>\n",
       "      <td>...</td>\n",
       "      <td>...</td>\n",
       "    </tr>\n",
       "    <tr>\n",
       "      <th>14595</th>\n",
       "      <td>-0.756655</td>\n",
       "      <td>-0.050880</td>\n",
       "    </tr>\n",
       "    <tr>\n",
       "      <th>14596</th>\n",
       "      <td>-1.692899</td>\n",
       "      <td>-1.854484</td>\n",
       "    </tr>\n",
       "    <tr>\n",
       "      <th>14597</th>\n",
       "      <td>-0.163383</td>\n",
       "      <td>0.113084</td>\n",
       "    </tr>\n",
       "    <tr>\n",
       "      <th>14598</th>\n",
       "      <td>0.171344</td>\n",
       "      <td>0.878249</td>\n",
       "    </tr>\n",
       "    <tr>\n",
       "      <th>14599</th>\n",
       "      <td>-0.317921</td>\n",
       "      <td>-0.105535</td>\n",
       "    </tr>\n",
       "  </tbody>\n",
       "</table>\n",
       "<p>14600 rows × 2 columns</p>\n",
       "</div>"
      ],
      "text/plain": [
       "              0         0\n",
       "0     -1.580209 -1.581211\n",
       "1     -0.590269 -0.570099\n",
       "2     -0.539448 -0.679409\n",
       "3      1.084176  0.659630\n",
       "4      1.360003  1.670742\n",
       "...         ...       ...\n",
       "14595 -0.756655 -0.050880\n",
       "14596 -1.692899 -1.854484\n",
       "14597 -0.163383  0.113084\n",
       "14598  0.171344  0.878249\n",
       "14599 -0.317921 -0.105535\n",
       "\n",
       "[14600 rows x 2 columns]"
      ]
     },
     "execution_count": 187,
     "metadata": {},
     "output_type": "execute_result"
    }
   ],
   "source": [
    "from sklearn.metrics import r2_score\n",
    "predict = votingC.predict(X_test)\n",
    "predict = pd.DataFrame(predict)\n",
    "y_test= y_test.reset_index().drop([\"index\"],axis=1)\n",
    "results = pd.concat([predict,y_test],axis = 1)\n",
    "print(r2_score(y_test,predict))\n",
    "results"
   ]
  },
  {
   "cell_type": "code",
   "execution_count": null,
   "metadata": {},
   "outputs": [],
   "source": [
    "'''I get verj bad results, with my models. My best guess is tha i should not have applied my log-transform or not have done OneHot\n",
    "Encoding for months and year features.'''"
   ]
  }
 ],
 "metadata": {
  "kernelspec": {
   "display_name": "Python 3",
   "language": "python",
   "name": "python3"
  },
  "language_info": {
   "codemirror_mode": {
    "name": "ipython",
    "version": 3
   },
   "file_extension": ".py",
   "mimetype": "text/x-python",
   "name": "python",
   "nbconvert_exporter": "python",
   "pygments_lexer": "ipython3",
   "version": "3.6.2"
  }
 },
 "nbformat": 4,
 "nbformat_minor": 4
}
