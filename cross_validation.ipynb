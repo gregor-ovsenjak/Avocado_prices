{
 "cells": [
  {
   "cell_type": "code",
   "execution_count": 246,
   "metadata": {},
   "outputs": [],
   "source": [
    "import importlib\n",
    "import data_transform\n",
    "import Cross_validation\n",
    "importlib.reload(data_transform)\n",
    "importlib.reload(Cross_validation)\n",
    "import pandas as pd\n",
    "import numpy as np\n",
    "import matplotlib.pyplot as plt\n",
    "from Visualization.Feature_importance import FeatImp\n",
    "from data_transform import apply_transformations,detect_outliers\n",
    "from Cross_validation import cross_validation,BlockingTimeSeriesSplit\n",
    "from sklearn.preprocessing import StandardScaler\n",
    "from sklearn.tree import DecisionTreeRegressor\n",
    "import seaborn as sns\n",
    "\n",
    "#Models for predicting\n",
    "from sklearn.ensemble import RandomForestRegressor,ExtraTreesRegressor,AdaBoostRegressor,VotingRegressor\n",
    "from sklearn.linear_model import LinearRegression,SGDRegressor\n",
    "from sklearn.tree import DecisionTreeRegressor\n",
    "from sklearn.svm import SVR\n",
    "\n",
    "#Grid Search\n",
    "from sklearn.model_selection import GridSearchCV\n",
    "\n",
    "# preparing and cleaning data\n",
    "data = pd.read_csv('data/avocado.csv')\n",
    "data = data.sort_values(by=['Date'])\n",
    "dates = data['Date']\n",
    "target = data['AveragePrice']\n",
    "\n",
    "data = data.drop(['Unnamed: 0','AveragePrice'],axis = 1)\n",
    "\n",
    "# applied all transformations\n",
    "data_2 = apply_transformations(data)\n",
    "outliers = detect_outliers(data_2,6,data_2.columns.values)\n",
    "data_2 = data_2.drop(outliers, axis = 0).reset_index(drop=True)\n",
    "# seperating into train, test\n",
    "train_size_start = int(0.4*len(data_2))\n",
    "train_size_end = int(0.8*len(data_2))\n",
    "test_size_end = int(1*len(data_2))\n",
    "#train data\n",
    "X_train = data_2[:][train_size_start:train_size_end]\n",
    "y_train = target[train_size_start:train_size_end]\n",
    "\n",
    "# test data\n",
    "X_test = data_2[:][train_size_end:test_size_end]\n",
    "y_test = target[train_size_end:test_size_end]\n",
    "dates = dates[train_size_end:test_size_end]"
   ]
  },
  {
   "cell_type": "code",
   "execution_count": 247,
   "metadata": {},
   "outputs": [
    {
     "data": {
      "text/plain": [
       "array([[ 0.64799143,  0.92224691,  0.49365069, ..., -0.28263343,\n",
       "        -0.25079954, -0.25079954],\n",
       "       [ 1.04627591,  1.24032714,  0.72648667, ..., -0.28263343,\n",
       "        -0.25079954, -0.25079954],\n",
       "       [ 0.45251974,  0.40698469,  0.5328853 , ..., -0.28263343,\n",
       "        -0.25079954, -0.25079954],\n",
       "       ...,\n",
       "       [-0.53982172,  0.02518606, -0.59451676, ..., -0.28263343,\n",
       "        -0.25079954, -0.25079954],\n",
       "       [-0.09544362,  0.45084418, -0.58220553, ..., -0.28263343,\n",
       "        -0.25079954, -0.25079954],\n",
       "       [-0.80097849, -0.39409152, -0.51550432, ..., -0.28263343,\n",
       "        -0.25079954, -0.25079954]])"
      ]
     },
     "execution_count": 247,
     "metadata": {},
     "output_type": "execute_result"
    }
   ],
   "source": [
    "#scaling data\n",
    "\n",
    "SC = StandardScaler()\n",
    "X_train = SC.fit_transform(X_train) # important to fit data to X_train and applying same statistical properties to X_test!!!\n",
    "X_test = SC.transform(X_test)\n",
    "\n",
    "y_train = pd.Series(SC.fit_transform(np.array(y_train).reshape(-1,1)).ravel()) # same goes for target values!!!\n",
    "y_test = pd.Series(SC.transform(np.array(y_test).reshape(-1,1)).ravel())\n",
    "X_train"
   ]
  },
  {
   "cell_type": "code",
   "execution_count": 250,
   "metadata": {
    "scrolled": true
   },
   "outputs": [
    {
     "data": {
      "text/html": [
       "<div>\n",
       "<style scoped>\n",
       "    .dataframe tbody tr th:only-of-type {\n",
       "        vertical-align: middle;\n",
       "    }\n",
       "\n",
       "    .dataframe tbody tr th {\n",
       "        vertical-align: top;\n",
       "    }\n",
       "\n",
       "    .dataframe thead th {\n",
       "        text-align: right;\n",
       "    }\n",
       "</style>\n",
       "<table border=\"1\" class=\"dataframe\">\n",
       "  <thead>\n",
       "    <tr style=\"text-align: right;\">\n",
       "      <th></th>\n",
       "      <th>SVR</th>\n",
       "      <th>Random Forest Regressor</th>\n",
       "      <th>Extra Trees Regressor</th>\n",
       "      <th>AdaBoost</th>\n",
       "      <th>LinearRegresion</th>\n",
       "      <th>SGD</th>\n",
       "    </tr>\n",
       "  </thead>\n",
       "  <tbody>\n",
       "    <tr>\n",
       "      <th>means</th>\n",
       "      <td>0.577678</td>\n",
       "      <td>0.592815</td>\n",
       "      <td>0.617329</td>\n",
       "      <td>0.602639</td>\n",
       "      <td>-1.373630e+25</td>\n",
       "      <td>0.592494</td>\n",
       "    </tr>\n",
       "    <tr>\n",
       "      <th>std</th>\n",
       "      <td>0.155144</td>\n",
       "      <td>0.059458</td>\n",
       "      <td>0.085560</td>\n",
       "      <td>0.074670</td>\n",
       "      <td>1.787419e+25</td>\n",
       "      <td>0.083775</td>\n",
       "    </tr>\n",
       "  </tbody>\n",
       "</table>\n",
       "</div>"
      ],
      "text/plain": [
       "            SVR  Random Forest Regressor  Extra Trees Regressor  AdaBoost  \\\n",
       "means  0.577678                 0.592815               0.617329  0.602639   \n",
       "std    0.155144                 0.059458               0.085560  0.074670   \n",
       "\n",
       "       LinearRegresion       SGD  \n",
       "means    -1.373630e+25  0.592494  \n",
       "std       1.787419e+25  0.083775  "
      ]
     },
     "execution_count": 250,
     "metadata": {},
     "output_type": "execute_result"
    }
   ],
   "source": [
    "cross_validation(X_train,y_train)"
   ]
  },
  {
   "cell_type": "code",
   "execution_count": 64,
   "metadata": {},
   "outputs": [
    {
     "data": {
      "text/plain": [
       "[0.7922791441366619,\n",
       " 0.8191692446682449,\n",
       " 0.8438948597779066,\n",
       " 0.8253752522485431,\n",
       " -5.952385104040235e+21,\n",
       " 0.5479946591465854]"
      ]
     },
     "execution_count": 64,
     "metadata": {},
     "output_type": "execute_result"
    }
   ],
   "source": []
  },
  {
   "cell_type": "code",
   "execution_count": 113,
   "metadata": {},
   "outputs": [
    {
     "name": "stdout",
     "output_type": "stream",
     "text": [
      "Fitting 5 folds for each of 8 candidates, totalling 40 fits\n"
     ]
    },
    {
     "name": "stderr",
     "output_type": "stream",
     "text": [
      "[Parallel(n_jobs=-1)]: Using backend LokyBackend with 4 concurrent workers.\n",
      "[Parallel(n_jobs=-1)]: Done  40 out of  40 | elapsed:   22.8s finished\n"
     ]
    }
   ],
   "source": [
    "# Random Forest Regressor hyperparameter Tuning\n",
    "\n",
    "RFR = RandomForestRegressor()\n",
    "btss = BlockingTimeSeriesSplit(n_splits=5)\n",
    "\n",
    "rfr_params = {\"n_estimators\":[100,200],\n",
    "              \"criterion\":['mse'],\n",
    "              \"max_depth\":[6,8,10,20],\n",
    "             }\n",
    "gsRFC = GridSearchCV(RFR,param_grid = rfr_params, cv=btss, scoring=\"r2\", n_jobs= -1, verbose = 1)\n",
    "\n",
    "gsRFC.fit(X_train,y_train)\n",
    "\n",
    "RFC_best = gsRFC.best_estimator_\n"
   ]
  },
  {
   "cell_type": "code",
   "execution_count": 59,
   "metadata": {},
   "outputs": [
    {
     "data": {
      "text/plain": [
       "{'criterion': 'mse', 'max_depth': 20, 'n_estimators': 100}"
      ]
     },
     "execution_count": 59,
     "metadata": {},
     "output_type": "execute_result"
    }
   ],
   "source": [
    "gsRFC.best_params_"
   ]
  },
  {
   "cell_type": "code",
   "execution_count": 114,
   "metadata": {},
   "outputs": [
    {
     "name": "stdout",
     "output_type": "stream",
     "text": [
      "Fitting 5 folds for each of 8 candidates, totalling 40 fits\n"
     ]
    },
    {
     "name": "stderr",
     "output_type": "stream",
     "text": [
      "[Parallel(n_jobs=-1)]: Using backend LokyBackend with 4 concurrent workers.\n",
      "[Parallel(n_jobs=-1)]: Done  40 out of  40 | elapsed:   21.8s finished\n"
     ]
    }
   ],
   "source": [
    "# Extra Trees Regressor hyperparameter Tuning\n",
    "\n",
    "ETR = ExtraTreesRegressor()\n",
    "btss = BlockingTimeSeriesSplit(n_splits=5)\n",
    "\n",
    "ETR_params = {\"n_estimators\":[100,200],\n",
    "              \"criterion\":['mse'],\n",
    "              \"max_depth\":[6,8,10,20],\n",
    "             }\n",
    "gsETR = GridSearchCV(ETR,param_grid = ETR_params, cv=btss, scoring=\"r2\", n_jobs= -1, verbose = 1)\n",
    "\n",
    "gsETR.fit(X_train,y_train)\n",
    "\n",
    "ETR_best = gsETR.best_estimator_\n"
   ]
  },
  {
   "cell_type": "code",
   "execution_count": 61,
   "metadata": {},
   "outputs": [
    {
     "data": {
      "text/plain": [
       "ExtraTreesRegressor(max_depth=20, n_estimators=200)"
      ]
     },
     "execution_count": 61,
     "metadata": {},
     "output_type": "execute_result"
    }
   ],
   "source": [
    "ETR_best"
   ]
  },
  {
   "cell_type": "code",
   "execution_count": 62,
   "metadata": {},
   "outputs": [
    {
     "data": {
      "text/plain": [
       "{'criterion': 'mse', 'max_depth': 20, 'n_estimators': 200}"
      ]
     },
     "execution_count": 62,
     "metadata": {},
     "output_type": "execute_result"
    }
   ],
   "source": [
    "gsETR.best_params_"
   ]
  },
  {
   "cell_type": "code",
   "execution_count": 115,
   "metadata": {},
   "outputs": [
    {
     "name": "stdout",
     "output_type": "stream",
     "text": [
      "Fitting 5 folds for each of 48 candidates, totalling 240 fits\n"
     ]
    },
    {
     "name": "stderr",
     "output_type": "stream",
     "text": [
      "[Parallel(n_jobs=-1)]: Using backend LokyBackend with 4 concurrent workers.\n",
      "[Parallel(n_jobs=-1)]: Done  42 tasks      | elapsed:   25.7s\n",
      "[Parallel(n_jobs=-1)]: Done 192 tasks      | elapsed:  2.1min\n",
      "[Parallel(n_jobs=-1)]: Done 240 out of 240 | elapsed:  2.5min finished\n"
     ]
    }
   ],
   "source": [
    "AB = AdaBoostRegressor(base_estimator=DecisionTreeRegressor())\n",
    "\n",
    "AB_params = {\"n_estimators\":[10,50,100,200],\n",
    "              \"learning_rate\":[0.1,0.5,1,2],\n",
    "              \"loss\":[\"linear\",\"square\",\"exponential\"],\n",
    "             }\n",
    "gsAB = GridSearchCV(AB,param_grid = AB_params, cv=btss, scoring=\"r2\", n_jobs= -1, verbose = 1)\n",
    "\n",
    "gsAB.fit(X_train,y_train)\n",
    "\n",
    "AB_best = gsAB.best_estimator_"
   ]
  },
  {
   "cell_type": "code",
   "execution_count": 66,
   "metadata": {},
   "outputs": [
    {
     "data": {
      "text/plain": [
       "AdaBoostRegressor(base_estimator=DecisionTreeRegressor(), learning_rate=0.1,\n",
       "                  loss='exponential', n_estimators=100)"
      ]
     },
     "execution_count": 66,
     "metadata": {},
     "output_type": "execute_result"
    }
   ],
   "source": [
    "gsAB.best_params_\n",
    "AB_best"
   ]
  },
  {
   "cell_type": "code",
   "execution_count": 116,
   "metadata": {},
   "outputs": [
    {
     "name": "stdout",
     "output_type": "stream",
     "text": [
      "Fitting 5 folds for each of 24 candidates, totalling 120 fits\n"
     ]
    },
    {
     "name": "stderr",
     "output_type": "stream",
     "text": [
      "[Parallel(n_jobs=-1)]: Using backend LokyBackend with 4 concurrent workers.\n",
      "[Parallel(n_jobs=-1)]: Done  42 tasks      | elapsed:    7.3s\n",
      "[Parallel(n_jobs=-1)]: Done 120 out of 120 | elapsed:   21.2s finished\n"
     ]
    }
   ],
   "source": [
    "svr = SVR()\n",
    "svr_params = {\"kernel\":['linear','poly','rbf','sigmoid'],\n",
    "              \"gamma\":['scale','auto'],\n",
    "              \"C\":[2,3,4]}\n",
    "\n",
    "gsSVR = GridSearchCV(svr,param_grid = svr_params, cv=btss, scoring=\"r2\", n_jobs= -1, verbose = 1)\n",
    "\n",
    "gsSVR.fit(X_train,y_train)\n",
    "\n",
    "svr_best = gsSVR.best_estimator_"
   ]
  },
  {
   "cell_type": "code",
   "execution_count": 68,
   "metadata": {},
   "outputs": [
    {
     "data": {
      "text/plain": [
       "{'C': 4, 'degree': 2, 'gamma': 'auto', 'kernel': 'rbf'}"
      ]
     },
     "execution_count": 68,
     "metadata": {},
     "output_type": "execute_result"
    }
   ],
   "source": [
    "gsSVR.best_params_"
   ]
  },
  {
   "cell_type": "code",
   "execution_count": 251,
   "metadata": {},
   "outputs": [],
   "source": [
    "votingR = VotingRegressor(estimators=[('rfc', RFC_best),\n",
    "('ETR', ETR_best),('AB',AB_best),('svr',svr_best)],  n_jobs=-1)\n",
    "\n",
    "votingC = votingR.fit(X_train, y_train)"
   ]
  },
  {
   "cell_type": "code",
   "execution_count": 252,
   "metadata": {},
   "outputs": [
    {
     "name": "stdout",
     "output_type": "stream",
     "text": [
      "0.4693124632769139\n"
     ]
    },
    {
     "data": {
      "text/plain": [
       "[<matplotlib.lines.Line2D at 0x1f0b12f1710>]"
      ]
     },
     "execution_count": 252,
     "metadata": {},
     "output_type": "execute_result"
    },
    {
     "data": {
      "image/png": "[encoded data removed]",
      "text/plain": [
       "<Figure size 864x720 with 1 Axes>"
      ]
     },
     "metadata": {
      "needs_background": "light"
     },
     "output_type": "display_data"
    }
   ],
   "source": [
    "from sklearn.metrics import r2_score\n",
    "predict = votingC.predict(X_test)\n",
    "predict = pd.DataFrame(predict)\n",
    "y_test= y_test.reset_index().drop([\"index\"],axis=1)\n",
    "results = pd.concat([predict,y_test],axis = 1)\n",
    "print(r2_score(y_test,predict))\n",
    "plt.figure(figsize=(12,10))\n",
    "plt.plot(dates,y_test)\n",
    "plt.plot(dates,predict)\n"
   ]
  },
  {
   "cell_type": "code",
   "execution_count": null,
   "metadata": {},
   "outputs": [],
   "source": [
    "'''I get poor results with my models. My best guess is that i should not have applied my log-transform or not have done OneHot\n",
    "Encoding for months and year features, to fix my model."
   ]
  },
  {
   "cell_type": "code",
   "execution_count": 144,
   "metadata": {},
   "outputs": [
    {
     "data": {
      "text/html": [
       "<div>\n",
       "<style scoped>\n",
       "    .dataframe tbody tr th:only-of-type {\n",
       "        vertical-align: middle;\n",
       "    }\n",
       "\n",
       "    .dataframe tbody tr th {\n",
       "        vertical-align: top;\n",
       "    }\n",
       "\n",
       "    .dataframe thead th {\n",
       "        text-align: right;\n",
       "    }\n",
       "</style>\n",
       "<table border=\"1\" class=\"dataframe\">\n",
       "  <thead>\n",
       "    <tr style=\"text-align: right;\">\n",
       "      <th></th>\n",
       "      <th>0</th>\n",
       "      <th>AveragePrice</th>\n",
       "    </tr>\n",
       "  </thead>\n",
       "  <tbody>\n",
       "    <tr>\n",
       "      <th>0</th>\n",
       "      <td>1.653596</td>\n",
       "      <td>1.66</td>\n",
       "    </tr>\n",
       "    <tr>\n",
       "      <th>1</th>\n",
       "      <td>1.718801</td>\n",
       "      <td>1.65</td>\n",
       "    </tr>\n",
       "    <tr>\n",
       "      <th>2</th>\n",
       "      <td>1.551873</td>\n",
       "      <td>1.63</td>\n",
       "    </tr>\n",
       "    <tr>\n",
       "      <th>3</th>\n",
       "      <td>1.462628</td>\n",
       "      <td>1.47</td>\n",
       "    </tr>\n",
       "    <tr>\n",
       "      <th>4</th>\n",
       "      <td>1.735848</td>\n",
       "      <td>1.74</td>\n",
       "    </tr>\n",
       "    <tr>\n",
       "      <th>...</th>\n",
       "      <td>...</td>\n",
       "      <td>...</td>\n",
       "    </tr>\n",
       "    <tr>\n",
       "      <th>3645</th>\n",
       "      <td>1.526821</td>\n",
       "      <td>1.36</td>\n",
       "    </tr>\n",
       "    <tr>\n",
       "      <th>3646</th>\n",
       "      <td>1.029981</td>\n",
       "      <td>0.70</td>\n",
       "    </tr>\n",
       "    <tr>\n",
       "      <th>3647</th>\n",
       "      <td>1.523834</td>\n",
       "      <td>1.42</td>\n",
       "    </tr>\n",
       "    <tr>\n",
       "      <th>3648</th>\n",
       "      <td>1.806990</td>\n",
       "      <td>1.70</td>\n",
       "    </tr>\n",
       "    <tr>\n",
       "      <th>3649</th>\n",
       "      <td>1.463342</td>\n",
       "      <td>1.34</td>\n",
       "    </tr>\n",
       "  </tbody>\n",
       "</table>\n",
       "<p>3650 rows × 2 columns</p>\n",
       "</div>"
      ],
      "text/plain": [
       "             0  AveragePrice\n",
       "0     1.653596          1.66\n",
       "1     1.718801          1.65\n",
       "2     1.551873          1.63\n",
       "3     1.462628          1.47\n",
       "4     1.735848          1.74\n",
       "...        ...           ...\n",
       "3645  1.526821          1.36\n",
       "3646  1.029981          0.70\n",
       "3647  1.523834          1.42\n",
       "3648  1.806990          1.70\n",
       "3649  1.463342          1.34\n",
       "\n",
       "[3650 rows x 2 columns]"
      ]
     },
     "execution_count": 144,
     "metadata": {},
     "output_type": "execute_result"
    }
   ],
   "source": [
    "results"
   ]
  },
  {
   "cell_type": "code",
   "execution_count": null,
   "metadata": {},
   "outputs": [],
   "source": [
    "'''The best results I get with my hypertuned models is 0.47 r2 score, which is approximately 0.3 worse than what my cross-validation\n",
    "returned. What could be the reason for such bad performance? Since my data was ordered like a Time-Series I assume that Models I used\n",
    "had learned patterns in the training data and predicted the same behaviour for the test set. But since Time series data is highly volatile\n",
    ", said patterns did not apply to the test set. In my experimentation with the training data I noticed that my models perform best if I \n",
    "reduce the training size and teach only on data that is closer to the test set. Another reason for bad results could be that I used too many\n",
    "features. Maybe I should've used less features or seperated data into smaller chunks, for example I could seperate data into regions, and\n",
    "predict for each region.\n",
    "'''"
   ]
  }
 ],
 "metadata": {
  "kernelspec": {
   "display_name": "Python 3",
   "language": "python",
   "name": "python3"
  },
  "language_info": {
   "codemirror_mode": {
    "name": "ipython",
    "version": 3
   },
   "file_extension": ".py",
   "mimetype": "text/x-python",
   "name": "python",
   "nbconvert_exporter": "python",
   "pygments_lexer": "ipython3",
   "version": "3.6.2"
  }
 },
 "nbformat": 4,
 "nbformat_minor": 4
}
