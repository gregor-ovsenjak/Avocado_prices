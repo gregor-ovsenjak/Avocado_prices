{
 "cells": [
  {
   "cell_type": "code",
   "execution_count": 13,
   "metadata": {},
   "outputs": [
    {
     "data": {
      "text/plain": [
       "([0.6785908489035656,\n",
       "  0.7296276209578567,\n",
       "  0.7583900660729164,\n",
       "  0.21161444139942392,\n",
       "  -4.7110459181423656e+23,\n",
       "  0.3224161715438979],\n",
       " [0.14064940557127575,\n",
       "  0.11518178510953006,\n",
       "  0.10752393368327418,\n",
       "  0.3346534218596177,\n",
       "  9.364929750016305e+23,\n",
       "  0.15504358119585532])"
      ]
     },
     "execution_count": 13,
     "metadata": {},
     "output_type": "execute_result"
    }
   ],
   "source": [
    "import importlib\n",
    "import data_transform\n",
    "importlib.reload(data_transform)\n",
    "import pandas as pd\n",
    "import numpy as np\n",
    "import matplotlib.pyplot as plt\n",
    "from Visualization.Feature_importance import FeatImp\n",
    "from data_transform import apply_transformations\n",
    "from Cross_validation import cross_validation\n",
    "import seaborn as sns\n",
    "\n",
    "\n",
    "# preparing and cleaning data\n",
    "data = pd.read_csv('data/avocado.csv')\n",
    "data = data.sort_values(by=['Date'])\n",
    "target = data['AveragePrice']\n",
    "\n",
    "data = data.drop(['Unnamed: 0','AveragePrice'],axis = 1)\n",
    "\n",
    "# applied all transformations\n",
    "data_2 = apply_transformations(data)\n",
    "\n",
    "# seperating into train, test\n",
    "train_size = int(0.8*len(data_2))\n",
    "\n",
    "#train data\n",
    "X_train = data_2[:][0:train_size]\n",
    "y_train = target[0:train_size]\n",
    "\n",
    "# test data\n",
    "X_test = data_2[:][train_size:]\n",
    "y_test = target[train_size:]\n",
    "\n",
    "cross_validation(X_train,y_train)\n",
    "\n"
   ]
  },
  {
   "cell_type": "code",
   "execution_count": null,
   "metadata": {},
   "outputs": [],
   "source": []
  }
 ],
 "metadata": {
  "kernelspec": {
   "display_name": "Python 3",
   "language": "python",
   "name": "python3"
  },
  "language_info": {
   "codemirror_mode": {
    "name": "ipython",
    "version": 3
   },
   "file_extension": ".py",
   "mimetype": "text/x-python",
   "name": "python",
   "nbconvert_exporter": "python",
   "pygments_lexer": "ipython3",
   "version": "3.6.2"
  }
 },
 "nbformat": 4,
 "nbformat_minor": 4
}
